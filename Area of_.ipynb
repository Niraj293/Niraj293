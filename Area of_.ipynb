{
 "cells": [
  {
   "cell_type": "code",
   "execution_count": 1,
   "id": "abe8d22e",
   "metadata": {},
   "outputs": [
    {
     "name": "stdout",
     "output_type": "stream",
     "text": [
      "Enter the value of radius 2\n",
      "radius= 2\n",
      "area of a circle= 12.566370614359172\n"
     ]
    }
   ],
   "source": [
    "# area of circle\n",
    "import math\n",
    "class area_circle:\n",
    "    def __init__(self,area,radius):\n",
    "        self.area=area\n",
    "        self.radius=radius\n",
    "    def calculate_area(self):\n",
    "        self.area=math.pi*(self.radius**2)\n",
    "        print('area of a circle=',self.area)\n",
    "    def input_data(self):\n",
    "        self.radius=int(input(\"Enter the value of radius \"))\n",
    "        print(\"radius=\",self.radius)\n",
    "        self.calculate_area()\n",
    "\n",
    "def main():\n",
    "    c1=area_circle(0,0)\n",
    "    c1.input_data()\n",
    "    \n",
    "if __name__=='__main__':\n",
    "    main()"
   ]
  },
  {
   "cell_type": "code",
   "execution_count": 13,
   "id": "9c8c043e",
   "metadata": {},
   "outputs": [
    {
     "name": "stdout",
     "output_type": "stream",
     "text": [
      "Enter the value of side 5\n",
      "side= 5 cm\n",
      "area of square is  25 sq.cm\n"
     ]
    }
   ],
   "source": [
    "# area of square\n",
    "class areasquare:\n",
    "    def __init__(self,area,side):\n",
    "        self.area=area\n",
    "        self.side=side\n",
    "    def calculatearea(self):\n",
    "        self.area=self.side**2\n",
    "        print(\"area of square is \",self.area,\"sq.cm\")\n",
    "    def inputdata(self):\n",
    "        self.side=int(input(\"Enter the value of side \"))\n",
    "        print(\"side=\",self.side,\"cm\")\n",
    "        self.calculatearea()\n",
    "    \n",
    "def main():\n",
    "    sq1=areasquare(0,0)\n",
    "    sq1.inputdata()\n",
    "if __name__==\"__main__\":\n",
    "    main()"
   ]
  },
  {
   "cell_type": "code",
   "execution_count": 16,
   "id": "19741a4d",
   "metadata": {},
   "outputs": [
    {
     "name": "stdout",
     "output_type": "stream",
     "text": [
      "Enter the value of radius 5\n",
      "radius= 5\n",
      "area of a circle= 78.53981633974483\n",
      "Enter the value of side 4\n",
      "side= 4 cm\n",
      "area of square is  16 sq.cm\n"
     ]
    }
   ],
   "source": [
    "def main():\n",
    "    c2=areacircle(0,0)\n",
    "    c2.inputdata()\n",
    "    sq1=areasquare(0,0)\n",
    "    sq1.inputdata()\n",
    "    \n",
    "if __name__=='__main__':\n",
    "    main()"
   ]
  },
  {
   "cell_type": "code",
   "execution_count": 3,
   "id": "33fe3a69",
   "metadata": {},
   "outputs": [
    {
     "name": "stdout",
     "output_type": "stream",
     "text": [
      "Enter the height of triangle10\n",
      "Enter the base of triangle13\n",
      "area of treainagle is  65.0 cubic cm\n"
     ]
    }
   ],
   "source": [
    "class areatriangle:\n",
    "    def __init__(self,area,height,base):\n",
    "        self.area=area\n",
    "        self.height=height\n",
    "        self.base=base\n",
    "    def calculatearea(self):\n",
    "        self.area=(0.5*self.height*self.base)\n",
    "        print(\"area of treainagle is \",self.area,\"cubic cm\")\n",
    "    def inputheight(self):\n",
    "        self.height=int(input(\"Enter the height of triangle\"))\n",
    "    def inputbase(self):\n",
    "        self.base=int(input(\"Enter the base of triangle\"))\n",
    "        self.calculatearea()\n",
    "def main():\n",
    "    tr1=areatriangle(0,0,0)\n",
    "    tr1.inputheight()\n",
    "    tr1.inputbase()\n",
    "if __name__==\"__main__\":\n",
    "    main()"
   ]
  },
  {
   "cell_type": "code",
   "execution_count": 23,
   "id": "98aecd11",
   "metadata": {},
   "outputs": [],
   "source": [
    "#power function\n",
    "import math\n",
    "class power:\n",
    "    def __init__(self,ans,base,power):\n",
    "        self.base=base\n",
    "        self.power=power\n",
    "        self.ans=ans\n",
    "    def calculation(self):\n",
    "        self.ans=math.pow(self.base,self.power)\n",
    "        print(\"answer is\",self.ans)\n",
    "    def inputbase(self):\n",
    "        self.base=int(input(\"Enter the value of base-\"))\n",
    "    def inputpower(self):\n",
    "        self.power=int(input(\"Enter the value of power-\"))\n",
    "        self.calculation()"
   ]
  },
  {
   "cell_type": "code",
   "execution_count": 24,
   "id": "87936771",
   "metadata": {},
   "outputs": [
    {
     "name": "stdout",
     "output_type": "stream",
     "text": [
      "Enter the value of base-10\n",
      "Enter the value of power-3\n",
      "answer is 1000.0\n"
     ]
    }
   ],
   "source": [
    "def main():\n",
    "    tr1=power(0,0,0)\n",
    "    tr1.inputbase()\n",
    "    tr1.inputpower()\n",
    "if __name__==\"__main__\":\n",
    "    main()"
   ]
  },
  {
   "cell_type": "code",
   "execution_count": null,
   "id": "84083f40",
   "metadata": {},
   "outputs": [],
   "source": []
  },
  {
   "cell_type": "code",
   "execution_count": null,
   "id": "e4192edd",
   "metadata": {},
   "outputs": [],
   "source": []
  },
  {
   "cell_type": "code",
   "execution_count": null,
   "id": "fb8c65aa",
   "metadata": {},
   "outputs": [],
   "source": []
  },
  {
   "cell_type": "code",
   "execution_count": null,
   "id": "8ac38e70",
   "metadata": {},
   "outputs": [],
   "source": []
  },
  {
   "cell_type": "code",
   "execution_count": null,
   "id": "0981d6da",
   "metadata": {},
   "outputs": [],
   "source": []
  },
  {
   "cell_type": "code",
   "execution_count": null,
   "id": "e6b7417e",
   "metadata": {},
   "outputs": [],
   "source": []
  },
  {
   "cell_type": "code",
   "execution_count": null,
   "id": "5b6668ea",
   "metadata": {},
   "outputs": [],
   "source": []
  },
  {
   "cell_type": "code",
   "execution_count": null,
   "id": "ae85faa1",
   "metadata": {},
   "outputs": [],
   "source": []
  },
  {
   "cell_type": "code",
   "execution_count": null,
   "id": "8d722571",
   "metadata": {},
   "outputs": [],
   "source": []
  },
  {
   "cell_type": "code",
   "execution_count": null,
   "id": "9fdca921",
   "metadata": {},
   "outputs": [],
   "source": []
  },
  {
   "cell_type": "code",
   "execution_count": null,
   "id": "aadd2b99",
   "metadata": {},
   "outputs": [],
   "source": []
  },
  {
   "cell_type": "code",
   "execution_count": null,
   "id": "be19beb2",
   "metadata": {},
   "outputs": [],
   "source": []
  },
  {
   "cell_type": "code",
   "execution_count": null,
   "id": "af3bb4fe",
   "metadata": {},
   "outputs": [],
   "source": []
  },
  {
   "cell_type": "code",
   "execution_count": null,
   "id": "315a458f",
   "metadata": {},
   "outputs": [],
   "source": []
  },
  {
   "cell_type": "code",
   "execution_count": null,
   "id": "92684a0b",
   "metadata": {},
   "outputs": [],
   "source": []
  },
  {
   "cell_type": "code",
   "execution_count": null,
   "id": "31e7573a",
   "metadata": {},
   "outputs": [],
   "source": []
  },
  {
   "cell_type": "code",
   "execution_count": null,
   "id": "ed1adfb9",
   "metadata": {},
   "outputs": [],
   "source": []
  },
  {
   "cell_type": "code",
   "execution_count": null,
   "id": "8ce25664",
   "metadata": {},
   "outputs": [],
   "source": []
  },
  {
   "cell_type": "code",
   "execution_count": null,
   "id": "d811dbf5",
   "metadata": {},
   "outputs": [],
   "source": []
  },
  {
   "cell_type": "code",
   "execution_count": null,
   "id": "757cb03a",
   "metadata": {},
   "outputs": [],
   "source": []
  },
  {
   "cell_type": "code",
   "execution_count": null,
   "id": "c614436f",
   "metadata": {},
   "outputs": [],
   "source": []
  },
  {
   "cell_type": "code",
   "execution_count": null,
   "id": "6c337a45",
   "metadata": {},
   "outputs": [],
   "source": []
  },
  {
   "cell_type": "code",
   "execution_count": null,
   "id": "e95df763",
   "metadata": {},
   "outputs": [],
   "source": []
  },
  {
   "cell_type": "code",
   "execution_count": null,
   "id": "be002d05",
   "metadata": {},
   "outputs": [],
   "source": []
  },
  {
   "cell_type": "code",
   "execution_count": null,
   "id": "4a3a691c",
   "metadata": {},
   "outputs": [],
   "source": []
  },
  {
   "cell_type": "code",
   "execution_count": null,
   "id": "06569156",
   "metadata": {},
   "outputs": [],
   "source": []
  },
  {
   "cell_type": "code",
   "execution_count": null,
   "id": "f745f011",
   "metadata": {},
   "outputs": [],
   "source": []
  },
  {
   "cell_type": "code",
   "execution_count": null,
   "id": "58cb018c",
   "metadata": {},
   "outputs": [],
   "source": []
  },
  {
   "cell_type": "code",
   "execution_count": null,
   "id": "6854ee41",
   "metadata": {},
   "outputs": [],
   "source": []
  },
  {
   "cell_type": "code",
   "execution_count": null,
   "id": "a9c47306",
   "metadata": {},
   "outputs": [],
   "source": []
  },
  {
   "cell_type": "code",
   "execution_count": null,
   "id": "1a47c3f8",
   "metadata": {},
   "outputs": [],
   "source": []
  },
  {
   "cell_type": "code",
   "execution_count": null,
   "id": "fe661ceb",
   "metadata": {},
   "outputs": [],
   "source": []
  },
  {
   "cell_type": "code",
   "execution_count": null,
   "id": "09bb7362",
   "metadata": {},
   "outputs": [],
   "source": []
  },
  {
   "cell_type": "code",
   "execution_count": null,
   "id": "f6171f86",
   "metadata": {},
   "outputs": [],
   "source": []
  },
  {
   "cell_type": "code",
   "execution_count": null,
   "id": "19fbc7d8",
   "metadata": {},
   "outputs": [],
   "source": []
  },
  {
   "cell_type": "code",
   "execution_count": null,
   "id": "a3689083",
   "metadata": {},
   "outputs": [],
   "source": []
  },
  {
   "cell_type": "code",
   "execution_count": null,
   "id": "9723adab",
   "metadata": {},
   "outputs": [],
   "source": []
  },
  {
   "cell_type": "code",
   "execution_count": null,
   "id": "bf395243",
   "metadata": {},
   "outputs": [],
   "source": []
  },
  {
   "cell_type": "code",
   "execution_count": null,
   "id": "18c79bee",
   "metadata": {},
   "outputs": [],
   "source": []
  }
 ],
 "metadata": {
  "kernelspec": {
   "display_name": "Python 3 (ipykernel)",
   "language": "python",
   "name": "python3"
  },
  "language_info": {
   "codemirror_mode": {
    "name": "ipython",
    "version": 3
   },
   "file_extension": ".py",
   "mimetype": "text/x-python",
   "name": "python",
   "nbconvert_exporter": "python",
   "pygments_lexer": "ipython3",
   "version": "3.9.7"
  }
 },
 "nbformat": 4,
 "nbformat_minor": 5
}
